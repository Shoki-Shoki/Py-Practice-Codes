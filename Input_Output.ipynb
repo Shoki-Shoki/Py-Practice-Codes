{
  "nbformat": 4,
  "nbformat_minor": 0,
  "metadata": {
    "colab": {
      "name": "Input/Output.ipynb",
      "provenance": [],
      "authorship_tag": "ABX9TyPuXRIr9SLYcLJFBPh5/Ah+",
      "include_colab_link": true
    },
    "kernelspec": {
      "name": "python3",
      "display_name": "Python 3"
    }
  },
  "cells": [
    {
      "cell_type": "markdown",
      "metadata": {
        "id": "view-in-github",
        "colab_type": "text"
      },
      "source": [
        "<a href=\"https://colab.research.google.com/github/Shoki-Shoki/Py-Practice-Codes/blob/main/Input_Output.ipynb\" target=\"_parent\"><img src=\"https://colab.research.google.com/assets/colab-badge.svg\" alt=\"Open In Colab\"/></a>"
      ]
    },
    {
      "cell_type": "code",
      "metadata": {
        "id": "k3sCxNtnAUGz",
        "outputId": "9e702ef7-3733-41cf-fbc5-abfadf255809",
        "colab": {
          "base_uri": "https://localhost:8080/"
        }
      },
      "source": [
        "applicant = input(\"Enter the applicant's name: \")\n",
        "interviewer = input(\"Enter the interviewer's name: \")\n",
        "time = input(\"Enter the appointment time: \")\n",
        "print(interviewer + ' will interview ' + applicant + ' at ' + time +'.')\n",
        "print(interviewer, ' will interview ', applicant, ' at ', time, '.', sep='')\n",
        "print('{} will interview {} at {}.'.format(interviewer, applicant, time))"
      ],
      "execution_count": 5,
      "outputs": [
        {
          "output_type": "stream",
          "text": [
            "Enter the applicant's name: Tapiwa\n",
            "Enter the interviewer's name: Tendai\n",
            "Enter the appointment time: 09 10 am\n",
            "Tendai will interview Tapiwa at 09 10 am.\n",
            "Tendai will interview Tapiwa at 09 10 am.\n",
            "Tendai will interview Tapiwa at 09 10 am.\n"
          ],
          "name": "stdout"
        }
      ]
    }
  ]
}